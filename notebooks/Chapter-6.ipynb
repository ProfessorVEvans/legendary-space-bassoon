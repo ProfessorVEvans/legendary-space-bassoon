{
 "cells": [
  {
   "cell_type": "markdown",
   "metadata": {},
   "source": [
    "# Chapter 6 | Arrays\n",
    "\n",
    "Chapter 6 Programming Exercises."
   ]
  },
  {
   "cell_type": "markdown",
   "metadata": {},
   "source": [
    "\n",
    "Exercise 5\n",
    "The Downdog Yoga Studio offers five types of classes, as shown in Figure 6-20. Design a program that accepts a number representing a class and then displays the name of the class.\n",
    "Downdog Yoga Studio classes\n",
    "\n",
    "Class number\tClass name\n",
    "1                    Yoga 1\n",
    "2                    Yoga 2\n",
    "3                  Children’s Yoga\n",
    "4                  Prenatal Yoga\n",
    "5                  Senior Yoga\n",
    "\n",
    "Be sure to create a variable that will exit\n"
   ]
  },
  {
   "cell_type": "code",
   "execution_count": null,
   "metadata": {},
   "outputs": [],
   "source": [
    "## Write your code here"
   ]
  }
 ],
 "metadata": {
  "kernelspec": {
   "display_name": "Python 3",
   "language": "python",
   "name": "python3"
  },
  "language_info": {
   "codemirror_mode": {
    "name": "ipython",
    "version": 3
   },
   "file_extension": ".py",
   "mimetype": "text/x-python",
   "name": "python",
   "nbconvert_exporter": "python",
   "pygments_lexer": "ipython3",
   "version": "3.12.1"
  },
  "orig_nbformat": 4
 },
 "nbformat": 4,
 "nbformat_minor": 2
}
